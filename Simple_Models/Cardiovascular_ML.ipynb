{
 "cells": [
  {
   "cell_type": "code",
   "execution_count": 2,
   "id": "40170f63-b880-4012-bf52-89fd3e3ba31f",
   "metadata": {},
   "outputs": [
    {
     "name": "stdout",
     "output_type": "stream",
     "text": [
      "Intel MKL WARNING: Support of Intel(R) Streaming SIMD Extensions 4.2 (Intel(R) SSE4.2) enabled only processors has been deprecated. Intel oneAPI Math Kernel Library 2025.0 will require Intel(R) Advanced Vector Extensions (Intel(R) AVX) instructions.\n",
      "Intel MKL WARNING: Support of Intel(R) Streaming SIMD Extensions 4.2 (Intel(R) SSE4.2) enabled only processors has been deprecated. Intel oneAPI Math Kernel Library 2025.0 will require Intel(R) Advanced Vector Extensions (Intel(R) AVX) instructions.\n"
     ]
    }
   ],
   "source": [
    "import numpy as np\n",
    "import pandas as pd\n",
    "from sklearn.model_selection import train_test_split\n",
    "from sklearn.linear_model import LogisticRegression\n",
    "from sklearn.metrics import accuracy_score\n",
    "from sklearn import preprocessing\n",
    "from sklearn.pipeline import make_pipeline\n",
    "from sklearn.preprocessing import StandardScaler"
   ]
  },
  {
   "cell_type": "markdown",
   "id": "4334f795-7777-4a6a-9357-e92cf16daf28",
   "metadata": {},
   "source": [
    "### Heart Disease Prediction Project"
   ]
  },
  {
   "cell_type": "code",
   "execution_count": 3,
   "id": "21606398-489d-4d64-b9d6-110dc8035423",
   "metadata": {},
   "outputs": [],
   "source": [
    "def inspect_dataset(heart_data:pd.DataFrame)->None:\n",
    "    # Inspect what the dataset looks like\n",
    "    print(\"Data head:\\n\",heart_data.head(),'\\n')\n",
    "    print(\"Data shape:\\n\",heart_data.shape,\"\\n\\nData info:\")\n",
    "    print(\"\\n\",heart_data.info(),\"\\n\")\n",
    "\n",
    "    # Check for missing values\n",
    "    print(\"Null values:\\n\",heart_data.isnull().sum(),'\\n')\n",
    "\n",
    "    # statistical measures about the data\n",
    "    print(\"Statistics:\\n\",heart_data.describe(),'\\n')\n",
    "\n",
    "    # Distribution of Target Variable\n",
    "    print(\"Target distribution:\\n\",heart_data['target'].value_counts(),'\\n')\n",
    "    print(\"1: defective heart\\n0: healthy heart\")\n",
    "    print(\"===========================================================================================\")\n",
    "    return\n"
   ]
  },
  {
   "cell_type": "code",
   "execution_count": 4,
   "id": "6dd1ea2c-b213-44f5-98cd-51195c05eff7",
   "metadata": {
    "tags": []
   },
   "outputs": [],
   "source": [
    "def split_features_targets(heart_data:pd.DataFrame)->tuple[pd.DataFrame,pd.DataFrame,pd.DataFrame,pd.DataFrame]:\n",
    "    X = heart_data.drop(columns='target', axis=1)\n",
    "    Y = heart_data['target']\n",
    "    \n",
    "    X_train, X_test, Y_train, Y_test = train_test_split(X, Y, test_size=0.2, stratify=Y, random_state=2)\n",
    "    return X_train, X_test, Y_train, Y_test"
   ]
  },
  {
   "cell_type": "code",
   "execution_count": null,
   "id": "b23bcadf-3a20-4be3-b31a-67f030ce1fba",
   "metadata": {
    "tags": []
   },
   "outputs": [],
   "source": []
  },
  {
   "cell_type": "code",
   "execution_count": 5,
   "id": "c12804f7-9fe3-4f07-9e7b-553ff46a530c",
   "metadata": {
    "tags": []
   },
   "outputs": [],
   "source": [
    "def develop_model(X_train:pd.DataFrame, X_test:pd.DataFrame, Y_train:pd.DataFrame, Y_test:pd.DataFrame)->None:\n",
    "    model = LogisticRegression(max_iter=500)\n",
    "    pipe = make_pipeline(StandardScaler(), model)\n",
    "    \n",
    "    # training the LogisticRegression model with Training data\n",
    "    pipe.fit(X_train, Y_train)  # apply scaling on training data\n",
    "    print(\"Accuracy on test data: \",pipe.score(X_test, Y_test))  # apply scaling on testing data, without leaking training data.\n",
    "    \n",
    "#     # accuracy on training data\n",
    "#     X_train_prediction = model.predict(X_train)\n",
    "#     training_data_accuracy = accuracy_score(X_train_prediction, Y_train)\n",
    "#     print('Accuracy on Training data : ', training_data_accuracy)\n",
    "    \n",
    "#     # accuracy on test data\n",
    "#     X_test_prediction = model.predict(X_test)\n",
    "#     test_data_accuracy = accuracy_score(X_test_prediction, Y_test)\n",
    "#     print('Accuracy on Test data : ', test_data_accuracy)\n",
    "    \n",
    "    return"
   ]
  },
  {
   "cell_type": "code",
   "execution_count": 6,
   "id": "99825700-3f8b-4b6b-a343-fba81763702e",
   "metadata": {
    "tags": []
   },
   "outputs": [],
   "source": [
    "def main():\n",
    "    # Load dataset\n",
    "    heart_data = pd.read_csv('heart_disease_data.csv')\n",
    "    inspect_dataset(heart_data)\n",
    "    X_train, X_test, Y_train, Y_test = split_features_targets(heart_data)\n",
    "    develop_model(X_train, X_test, Y_train, Y_test)\n",
    "    return"
   ]
  },
  {
   "cell_type": "code",
   "execution_count": 7,
   "id": "4b5590e5-1d6c-4015-8457-5067f6019c64",
   "metadata": {
    "tags": []
   },
   "outputs": [
    {
     "name": "stdout",
     "output_type": "stream",
     "text": [
      "Data head:\n",
      "    age  sex  cp  trestbps  chol  fbs  restecg  thalach  exang  oldpeak  slope  \\\n",
      "0   63    1   3       145   233    1        0      150      0      2.3      0   \n",
      "1   37    1   2       130   250    0        1      187      0      3.5      0   \n",
      "2   41    0   1       130   204    0        0      172      0      1.4      2   \n",
      "3   56    1   1       120   236    0        1      178      0      0.8      2   \n",
      "4   57    0   0       120   354    0        1      163      1      0.6      2   \n",
      "\n",
      "   ca  thal  target  \n",
      "0   0     1       1  \n",
      "1   0     2       1  \n",
      "2   0     2       1  \n",
      "3   0     2       1  \n",
      "4   0     2       1   \n",
      "\n",
      "Data shape:\n",
      " (303, 14) \n",
      "\n",
      "Data info:\n",
      "<class 'pandas.core.frame.DataFrame'>\n",
      "RangeIndex: 303 entries, 0 to 302\n",
      "Data columns (total 14 columns):\n",
      " #   Column    Non-Null Count  Dtype  \n",
      "---  ------    --------------  -----  \n",
      " 0   age       303 non-null    int64  \n",
      " 1   sex       303 non-null    int64  \n",
      " 2   cp        303 non-null    int64  \n",
      " 3   trestbps  303 non-null    int64  \n",
      " 4   chol      303 non-null    int64  \n",
      " 5   fbs       303 non-null    int64  \n",
      " 6   restecg   303 non-null    int64  \n",
      " 7   thalach   303 non-null    int64  \n",
      " 8   exang     303 non-null    int64  \n",
      " 9   oldpeak   303 non-null    float64\n",
      " 10  slope     303 non-null    int64  \n",
      " 11  ca        303 non-null    int64  \n",
      " 12  thal      303 non-null    int64  \n",
      " 13  target    303 non-null    int64  \n",
      "dtypes: float64(1), int64(13)\n",
      "memory usage: 33.3 KB\n",
      "\n",
      " None \n",
      "\n",
      "Null values:\n",
      " age         0\n",
      "sex         0\n",
      "cp          0\n",
      "trestbps    0\n",
      "chol        0\n",
      "fbs         0\n",
      "restecg     0\n",
      "thalach     0\n",
      "exang       0\n",
      "oldpeak     0\n",
      "slope       0\n",
      "ca          0\n",
      "thal        0\n",
      "target      0\n",
      "dtype: int64 \n",
      "\n",
      "Statistics:\n",
      "               age         sex          cp    trestbps        chol         fbs  \\\n",
      "count  303.000000  303.000000  303.000000  303.000000  303.000000  303.000000   \n",
      "mean    54.366337    0.683168    0.966997  131.623762  246.264026    0.148515   \n",
      "std      9.082101    0.466011    1.032052   17.538143   51.830751    0.356198   \n",
      "min     29.000000    0.000000    0.000000   94.000000  126.000000    0.000000   \n",
      "25%     47.500000    0.000000    0.000000  120.000000  211.000000    0.000000   \n",
      "50%     55.000000    1.000000    1.000000  130.000000  240.000000    0.000000   \n",
      "75%     61.000000    1.000000    2.000000  140.000000  274.500000    0.000000   \n",
      "max     77.000000    1.000000    3.000000  200.000000  564.000000    1.000000   \n",
      "\n",
      "          restecg     thalach       exang     oldpeak       slope          ca  \\\n",
      "count  303.000000  303.000000  303.000000  303.000000  303.000000  303.000000   \n",
      "mean     0.528053  149.646865    0.326733    1.039604    1.399340    0.729373   \n",
      "std      0.525860   22.905161    0.469794    1.161075    0.616226    1.022606   \n",
      "min      0.000000   71.000000    0.000000    0.000000    0.000000    0.000000   \n",
      "25%      0.000000  133.500000    0.000000    0.000000    1.000000    0.000000   \n",
      "50%      1.000000  153.000000    0.000000    0.800000    1.000000    0.000000   \n",
      "75%      1.000000  166.000000    1.000000    1.600000    2.000000    1.000000   \n",
      "max      2.000000  202.000000    1.000000    6.200000    2.000000    4.000000   \n",
      "\n",
      "             thal      target  \n",
      "count  303.000000  303.000000  \n",
      "mean     2.313531    0.544554  \n",
      "std      0.612277    0.498835  \n",
      "min      0.000000    0.000000  \n",
      "25%      2.000000    0.000000  \n",
      "50%      2.000000    1.000000  \n",
      "75%      3.000000    1.000000  \n",
      "max      3.000000    1.000000   \n",
      "\n",
      "Target distribution:\n",
      " target\n",
      "1    165\n",
      "0    138\n",
      "Name: count, dtype: int64 \n",
      "\n",
      "1: defective heart\n",
      "0: healthy heart\n",
      "===========================================================================================\n",
      "Accuracy on test data:  0.7868852459016393\n"
     ]
    }
   ],
   "source": [
    "if __name__=='__main__':\n",
    "    main()"
   ]
  },
  {
   "cell_type": "code",
   "execution_count": null,
   "id": "77f00417-24b3-45ca-8eaa-529d60c43bdc",
   "metadata": {},
   "outputs": [],
   "source": []
  },
  {
   "cell_type": "code",
   "execution_count": null,
   "id": "8ae9ceea-e75a-47f4-8ad7-1a8185b1feef",
   "metadata": {},
   "outputs": [],
   "source": []
  }
 ],
 "metadata": {
  "kernelspec": {
   "display_name": "Python 3 (ipykernel)",
   "language": "python",
   "name": "python3"
  },
  "language_info": {
   "codemirror_mode": {
    "name": "ipython",
    "version": 3
   },
   "file_extension": ".py",
   "mimetype": "text/x-python",
   "name": "python",
   "nbconvert_exporter": "python",
   "pygments_lexer": "ipython3",
   "version": "3.9.18"
  }
 },
 "nbformat": 4,
 "nbformat_minor": 5
}
